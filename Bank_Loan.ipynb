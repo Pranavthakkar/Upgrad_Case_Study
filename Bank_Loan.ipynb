{
 "cells": [
  {
   "cell_type": "code",
   "execution_count": 1,
   "metadata": {},
   "outputs": [],
   "source": [
    "import pandas as pd\n",
    "import numpy as np\n",
    "import matplotlib.pyplot as plt\n",
    "from glob import glob"
   ]
  },
  {
   "cell_type": "code",
   "execution_count": null,
   "metadata": {},
   "outputs": [],
   "source": [
    "#Read and Merge All States Files\n",
    "\n",
    "#Assumption: Files are places in the same folder where this jupyter notebook is present\n",
    "\n",
    "filenames=glob('*.csv')\n",
    "loan_all=pd.DataFrame()\n",
    "\n",
    "for f in filenames:\n",
    "    file_df = pd.read_csv(f,encoding = \"ISO-8859-1\")\n",
    "    file_df['f_name'] = f\n",
    "    loan_all = loan_all.append(file_df,sort=True)\n",
    "\n",
    "print(loan_all.schema())"
   ]
  },
  {
   "cell_type": "code",
   "execution_count": null,
   "metadata": {},
   "outputs": [],
   "source": []
  }
 ],
 "metadata": {
  "kernelspec": {
   "display_name": "Python 3",
   "language": "python",
   "name": "python3"
  },
  "language_info": {
   "codemirror_mode": {
    "name": "ipython",
    "version": 3
   },
   "file_extension": ".py",
   "mimetype": "text/x-python",
   "name": "python",
   "nbconvert_exporter": "python",
   "pygments_lexer": "ipython3",
   "version": "3.7.1"
  }
 },
 "nbformat": 4,
 "nbformat_minor": 2
}
Pranav herer
